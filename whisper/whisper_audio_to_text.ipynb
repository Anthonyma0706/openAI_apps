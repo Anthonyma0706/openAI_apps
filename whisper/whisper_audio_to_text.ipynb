{
 "cells": [
  {
   "cell_type": "code",
   "execution_count": null,
   "metadata": {},
   "outputs": [],
   "source": [
    "#@markdown # **Install libraries** 🏗️\n",
    "#@markdown This cell will take a little while to download several libraries, including Whisper.\n",
    "\n",
    "#@markdown ---\n",
    "\n",
    "! pip install git+https://github.com/openai/whisper.git\n",
    "! pip install pytube\n",
    "\n",
    "import sys\n",
    "import warnings\n",
    "import whisper\n",
    "from pathlib import Path\n",
    "import pytube\n",
    "import subprocess\n",
    "import torch\n",
    "import shutil\n",
    "import numpy as np\n",
    "from IPython.display import display, Markdown, YouTubeVideo\n",
    "\n",
    "device = torch.device('cuda:0')\n",
    "print('Using device:', device, file=sys.stderr)"
   ]
  },
  {
   "cell_type": "code",
   "execution_count": null,
   "metadata": {},
   "outputs": [],
   "source": [
    "#@markdown # **Model selection** 🧠\n",
    "\n",
    "#@markdown As of the first public release, there are 4 pre-trained options to play with:\n",
    "\n",
    "#@markdown |  Size  | Parameters | English-only model | Multilingual model | Required VRAM | Relative speed |\n",
    "#@markdown |:------:|:----------:|:------------------:|:------------------:|:-------------:|:--------------:|\n",
    "#@markdown |  tiny  |    39 M    |     `tiny.en`      |       `tiny`       |     ~1 GB     |      ~32x      |\n",
    "#@markdown |  base  |    74 M    |     `base.en`      |       `base`       |     ~1 GB     |      ~16x      |\n",
    "#@markdown | small  |   244 M    |     `small.en`     |      `small`       |     ~2 GB     |      ~6x       |\n",
    "#@markdown | medium |   769 M    |    `medium.en`     |      `medium`      |     ~5 GB     |      ~2x       |\n",
    "#@markdown | large  |   1550 M   |        N/A         |      `large`       |    ~10 GB     |       1x       |\n",
    "\n",
    "#@markdown ---\n",
    "Model = 'medium' #@param ['tiny.en', 'tiny', 'base.en', 'base', 'small.en', 'small', 'medium.en', 'medium', 'large']\n",
    "#@markdown ---\n",
    "#@markdown **Run this cell again if you change the model.**\n",
    "\n",
    "whisper_model = whisper.load_model(Model)\n",
    "\n",
    "if Model in whisper.available_models():\n",
    "    display(Markdown(\n",
    "        f\"**{Model} model is selected.**\"\n",
    "    ))\n",
    "else:\n",
    "    display(Markdown(\n",
    "        f\"**{Model} model is no longer available.**<br /> Please select one of the following:<br /> - {'<br /> - '.join(whisper.available_models())}\"\n",
    "    ))"
   ]
  }
 ],
 "metadata": {
  "language_info": {
   "name": "python"
  },
  "orig_nbformat": 4
 },
 "nbformat": 4,
 "nbformat_minor": 2
}
