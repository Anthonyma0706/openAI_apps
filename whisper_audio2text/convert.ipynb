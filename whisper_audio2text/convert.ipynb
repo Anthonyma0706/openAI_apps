{
 "cells": [
  {
   "cell_type": "code",
   "execution_count": 1,
   "metadata": {},
   "outputs": [],
   "source": [
    "import re\n",
    "\n",
    "input_file = 'transcripts_manolis_meeting.txt'\n",
    "output_file = 'transcripts_processed.txt'\n",
    "\n",
    "# Read input file and remove timestamps\n",
    "with open(input_file, 'r') as f:\n",
    "    text = f.read()\n",
    "    cleaned_text = re.sub(r'\\d:\\d{2}\\n', '', text)\n",
    "\n",
    "# Split into sentences and remove leading/trailing whitespace\n",
    "sentences = [s.strip() for s in cleaned_text.split('\\n') if s.strip()]\n",
    "\n",
    "# Concatenate sentences using commas\n",
    "comma_separated_text = ', '.join(sentences)\n",
    "\n",
    "# Write to output file\n",
    "with open(output_file, 'w') as f:\n",
    "    f.write(comma_separated_text)\n"
   ]
  },
  {
   "cell_type": "code",
   "execution_count": null,
   "metadata": {},
   "outputs": [],
   "source": []
  }
 ],
 "metadata": {
  "kernelspec": {
   "display_name": "whisper",
   "language": "python",
   "name": "python3"
  },
  "language_info": {
   "codemirror_mode": {
    "name": "ipython",
    "version": 3
   },
   "file_extension": ".py",
   "mimetype": "text/x-python",
   "name": "python",
   "nbconvert_exporter": "python",
   "pygments_lexer": "ipython3",
   "version": "3.8.16"
  },
  "orig_nbformat": 4
 },
 "nbformat": 4,
 "nbformat_minor": 2
}
